{
 "cells": [
  {
   "cell_type": "markdown",
   "id": "d1714d0e",
   "metadata": {
    "slideshow": {
     "slide_type": "slide"
    }
   },
   "source": [
    "(2-YEAR-OLD)\n",
    "\n",
    "\"1-SENTENCE-SLOGAN\""
   ]
  },
  {
   "cell_type": "markdown",
   "id": "56c2b5d3",
   "metadata": {
    "slideshow": {
     "slide_type": "slide"
    }
   },
   "source": [
    "(ADULT WITH 2-YEAR-OLD)\n",
    "\n",
    "Let us prepare our babies to read earlier!"
   ]
  },
  {
   "cell_type": "markdown",
   "id": "ece2227b",
   "metadata": {
    "slideshow": {
     "slide_type": "slide"
    }
   },
   "source": [
    "(VIDEO/GIF? OF SESSION)\n",
    "\n",
    "How does it work?\n",
    "- Preparing flash cards containing names of relatives, domestic tools, domestic animals, foods known by kids\n",
    "- Preparing good and calm places\n",
    "- Kid and coach must be happy\n",
    "- Playing with kid before session\n",
    "- Flash cards presentation (5 seconds is best, not more than 10 seconds)\n",
    "- Congratulating kid after session"
   ]
  },
  {
   "cell_type": "markdown",
   "id": "fc36ef1d",
   "metadata": {
    "slideshow": {
     "slide_type": "slide"
    }
   },
   "source": [
    "(VIDEO OF PREPARATION)\n",
    "\n",
    "Prepare your baby for the session with games.\n",
    "- Make sure your baby is happy\n",
    "- Choose a calm place without access by other people (TV?)\n",
    "- Play with your baby briefly"
   ]
  },
  {
   "cell_type": "markdown",
   "id": "12f1bad9",
   "metadata": {
    "slideshow": {
     "slide_type": "slide"
    }
   },
   "source": [
    "(PICTURE OF PRIMARY-1-AGE STUDENT READING BOOK)\n",
    "\n",
    "- ELP helps children to read and calculate earlier\n",
    "- Children benefit from the parental affection\n",
    "- It is important to the country to have tthe population who can read and calculate."
   ]
  },
  {
   "cell_type": "markdown",
   "id": "d40fec6c",
   "metadata": {
    "slideshow": {
     "slide_type": "slide"
    }
   },
   "source": [
    "(PICTURE OF MULTIPLE ADULTS WITH SOME READING MATERIAL AROUND A CHILD)\n",
    "\n",
    "Who must be the coaches?  \n",
    "Normally, a coach is a chosen friend, parent, or relative of a child, because the kids learn in a good atmosphere! Children like someone who they recognize as a friendly person to them."
   ]
  },
  {
   "cell_type": "markdown",
   "id": "5d0a60f6",
   "metadata": {
    "slideshow": {
     "slide_type": "slide"
    }
   },
   "source": [
    "(A PICTURE OF MANY KIDS TOGETHER)\n",
    "\n",
    "Beneficiaries of ELP  \n",
    "All children from 6 months can be beneficiaries.\n",
    "An main focus is children whose parents lack time to interact with their babies due to different duties. Also, the children from poor families are targeted because they may have less access to school."
   ]
  },
  {
   "cell_type": "markdown",
   "id": "3060512b",
   "metadata": {
    "slideshow": {
     "slide_type": "slide"
    }
   },
   "source": [
    "(A PICTURE OF A CHILD AND A SCHOOL)\n",
    "\n",
    "Impacts of ELP for children in school.  \n",
    "When children start learning earlier, they perform better in school in reading. Their mind is opened to learning, because they can read and get information quickly!"
   ]
  },
  {
   "cell_type": "markdown",
   "id": "2afd30d1",
   "metadata": {
    "slideshow": {
     "slide_type": "slide"
    }
   },
   "source": [
    "(SOME PICTURE)\n",
    "\n",
    "How can the ELP program grow?  \n",
    "We can grow ELP by reaching a big number of families and having a big group of coaches who can reach different areas."
   ]
  },
  {
   "cell_type": "markdown",
   "id": "512c5b6c",
   "metadata": {
    "slideshow": {
     "slide_type": "slide"
    }
   },
   "source": [
    "Testimonials"
   ]
  },
  {
   "cell_type": "markdown",
   "id": "b110462d",
   "metadata": {
    "slideshow": {
     "slide_type": "slide"
    }
   },
   "source": [
    "Is ELP accredited by education stakeholders?"
   ]
  }
 ],
 "metadata": {
  "celltoolbar": "Slideshow",
  "kernelspec": {
   "display_name": "Python 3 (ipykernel)",
   "language": "python",
   "name": "python3"
  },
  "language_info": {
   "codemirror_mode": {
    "name": "ipython",
    "version": 3
   },
   "file_extension": ".py",
   "mimetype": "text/x-python",
   "name": "python",
   "nbconvert_exporter": "python",
   "pygments_lexer": "ipython3",
   "version": "3.9.7"
  }
 },
 "nbformat": 4,
 "nbformat_minor": 5
}
